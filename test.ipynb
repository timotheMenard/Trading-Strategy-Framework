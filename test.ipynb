{
 "cells": [
  {
   "cell_type": "markdown",
   "metadata": {},
   "source": [
    "This was used for testing"
   ]
  },
  {
   "cell_type": "code",
   "execution_count": 1,
   "metadata": {},
   "outputs": [],
   "source": [
    "from strategies.moving_average_cross import MovingAverageCrossStrategy\n",
    "from backtest import Backtest\n",
    "from metrics import PerformanceMetrics\n",
    "from itertools import product\n",
    "import pandas as pd\n",
    "import numpy as np\n",
    "import itertools\n",
    "from joblib import Parallel, delayed\n",
    "from tqdm import tqdm\n",
    "\n",
    "data = pd.read_csv(\"data/msft.csv\", index_col=\"Date\", parse_dates=True)\n",
    "data = data.loc['2020-01-01':'2024-12-31']"
   ]
  },
  {
   "cell_type": "code",
   "execution_count": null,
   "metadata": {},
   "outputs": [],
   "source": [
    "trend_thresholds = range(5, 30, 5)\n",
    "adx_thresholds = range(10, 35, 5)\n",
    "short_windows = range(5, 20, 5)\n",
    "long_windows = range(30, 100, 10)\n",
    "stop_losses = [0.01, 0.02, 0.03, 0.04]\n",
    "take_profits = [0.02, 0.05, 0.07, 0.1]\n",
    "\n",
    "param_grid = list(itertools.product(\n",
    "    trend_thresholds,\n",
    "    adx_thresholds,\n",
    "    short_windows,\n",
    "    long_windows,\n",
    "    stop_losses,\n",
    "    take_profits\n",
    "))\n",
    "\n",
    "\n",
    "def evaluate_params(params, data):\n",
    "    trend_thr, adx_thr, short_ma, long_ma, sl_pct, tp_pct = params\n",
    "\n",
    "    if short_ma >= long_ma:\n",
    "        return None  # skip invalid combo\n",
    "\n",
    "    try:\n",
    "        strategy = MovingAverageCrossStrategy(\n",
    "            short_ma, \n",
    "            long_ma,\n",
    "            adx_threshold=adx_thr,\n",
    "            trend_direction_threshold=trend_thr,\n",
    "            stop_loss_pct=sl_pct,\n",
    "            take_profit_pct=tp_pct\n",
    "        )\n",
    "\n",
    "        backtest = Backtest(data, strategy)\n",
    "        results = backtest.run()\n",
    "        metrics = PerformanceMetrics(results, trades_df=backtest.trade_history_df)\n",
    "\n",
    "        sharpe = metrics.calculate_sharpe_ratio()\n",
    "        drawdown = metrics.calculate_max_drawdown()\n",
    "        returns = metrics.calculate_total_return()\n",
    "\n",
    "        if drawdown <= 1:\n",
    "            drawdown = 9999\n",
    "        score = (2 * sharpe) + (1 * returns) - (3 * drawdown)\n",
    "\n",
    "        return {\n",
    "            'params': params,\n",
    "            'score': score,\n",
    "        }\n",
    "\n",
    "    except Exception as e:\n",
    "        print(f\"Error for params {params}: {e}\")\n",
    "        return None"
   ]
  },
  {
   "cell_type": "code",
   "execution_count": null,
   "metadata": {},
   "outputs": [
    {
     "name": "stderr",
     "output_type": "stream",
     "text": [
      "100%|██████████| 8400/8400 [01:22<00:00, 102.22it/s]\n"
     ]
    }
   ],
   "source": [
    "\n",
    "n_jobs = -1 \n",
    "\n",
    "results = Parallel(n_jobs=n_jobs)(\n",
    "    delayed(evaluate_params)(params, data) for params in tqdm(param_grid)\n",
    ")\n",
    "\n",
    "# Filter out any None results\n",
    "results = [r for r in results if r is not None]\n",
    "\n",
    "# Sort by score\n",
    "results_df = pd.DataFrame(results)\n",
    "results_df = results_df.sort_values(by='score', ascending=False)"
   ]
  },
  {
   "cell_type": "code",
   "execution_count": 4,
   "metadata": {},
   "outputs": [
    {
     "data": {
      "text/html": [
       "<div>\n",
       "<style scoped>\n",
       "    .dataframe tbody tr th:only-of-type {\n",
       "        vertical-align: middle;\n",
       "    }\n",
       "\n",
       "    .dataframe tbody tr th {\n",
       "        vertical-align: top;\n",
       "    }\n",
       "\n",
       "    .dataframe thead th {\n",
       "        text-align: right;\n",
       "    }\n",
       "</style>\n",
       "<table border=\"1\" class=\"dataframe\">\n",
       "  <thead>\n",
       "    <tr style=\"text-align: right;\">\n",
       "      <th></th>\n",
       "      <th>params</th>\n",
       "      <th>score</th>\n",
       "    </tr>\n",
       "  </thead>\n",
       "  <tbody>\n",
       "    <tr>\n",
       "      <th>320</th>\n",
       "      <td>(5, 10, 15, 90, 0.01, 0.02)</td>\n",
       "      <td>-29994.279290</td>\n",
       "    </tr>\n",
       "    <tr>\n",
       "      <th>332</th>\n",
       "      <td>(5, 10, 15, 90, 0.04, 0.02)</td>\n",
       "      <td>-29994.407031</td>\n",
       "    </tr>\n",
       "    <tr>\n",
       "      <th>222</th>\n",
       "      <td>(5, 10, 10, 90, 0.04, 0.07)</td>\n",
       "      <td>-29994.416449</td>\n",
       "    </tr>\n",
       "    <tr>\n",
       "      <th>334</th>\n",
       "      <td>(5, 10, 15, 90, 0.04, 0.07)</td>\n",
       "      <td>-29994.437465</td>\n",
       "    </tr>\n",
       "    <tr>\n",
       "      <th>220</th>\n",
       "      <td>(5, 10, 10, 90, 0.04, 0.02)</td>\n",
       "      <td>-29994.535991</td>\n",
       "    </tr>\n",
       "    <tr>\n",
       "      <th>...</th>\n",
       "      <td>...</td>\n",
       "      <td>...</td>\n",
       "    </tr>\n",
       "    <tr>\n",
       "      <th>5764</th>\n",
       "      <td>(20, 20, 5, 60, 0.02, 0.02)</td>\n",
       "      <td>-29999.692222</td>\n",
       "    </tr>\n",
       "    <tr>\n",
       "      <th>3941</th>\n",
       "      <td>(15, 15, 15, 40, 0.02, 0.05)</td>\n",
       "      <td>-29999.728359</td>\n",
       "    </tr>\n",
       "    <tr>\n",
       "      <th>3829</th>\n",
       "      <td>(15, 15, 10, 40, 0.02, 0.05)</td>\n",
       "      <td>-29999.777062</td>\n",
       "    </tr>\n",
       "    <tr>\n",
       "      <th>5380</th>\n",
       "      <td>(20, 15, 5, 30, 0.02, 0.02)</td>\n",
       "      <td>-29999.815458</td>\n",
       "    </tr>\n",
       "    <tr>\n",
       "      <th>5716</th>\n",
       "      <td>(20, 20, 5, 30, 0.02, 0.02)</td>\n",
       "      <td>-29999.931984</td>\n",
       "    </tr>\n",
       "  </tbody>\n",
       "</table>\n",
       "<p>8400 rows × 2 columns</p>\n",
       "</div>"
      ],
      "text/plain": [
       "                            params         score\n",
       "320    (5, 10, 15, 90, 0.01, 0.02) -29994.279290\n",
       "332    (5, 10, 15, 90, 0.04, 0.02) -29994.407031\n",
       "222    (5, 10, 10, 90, 0.04, 0.07) -29994.416449\n",
       "334    (5, 10, 15, 90, 0.04, 0.07) -29994.437465\n",
       "220    (5, 10, 10, 90, 0.04, 0.02) -29994.535991\n",
       "...                            ...           ...\n",
       "5764   (20, 20, 5, 60, 0.02, 0.02) -29999.692222\n",
       "3941  (15, 15, 15, 40, 0.02, 0.05) -29999.728359\n",
       "3829  (15, 15, 10, 40, 0.02, 0.05) -29999.777062\n",
       "5380   (20, 15, 5, 30, 0.02, 0.02) -29999.815458\n",
       "5716   (20, 20, 5, 30, 0.02, 0.02) -29999.931984\n",
       "\n",
       "[8400 rows x 2 columns]"
      ]
     },
     "execution_count": 4,
     "metadata": {},
     "output_type": "execute_result"
    }
   ],
   "source": [
    "results_df"
   ]
  },
  {
   "cell_type": "code",
   "execution_count": null,
   "metadata": {},
   "outputs": [
    {
     "data": {
      "text/plain": [
       "[4, 5, 6]"
      ]
     },
     "execution_count": 4,
     "metadata": {},
     "output_type": "execute_result"
    }
   ],
   "source": [
    "a = [1,2,3,4,5,6]\n",
    "mid = len(a)//2"
   ]
  },
  {
   "cell_type": "code",
   "execution_count": null,
   "metadata": {},
   "outputs": [],
   "source": []
  }
 ],
 "metadata": {
  "kernelspec": {
   "display_name": "Python 3",
   "language": "python",
   "name": "python3"
  },
  "language_info": {
   "codemirror_mode": {
    "name": "ipython",
    "version": 3
   },
   "file_extension": ".py",
   "mimetype": "text/x-python",
   "name": "python",
   "nbconvert_exporter": "python",
   "pygments_lexer": "ipython3",
   "version": "3.11.9"
  }
 },
 "nbformat": 4,
 "nbformat_minor": 2
}
